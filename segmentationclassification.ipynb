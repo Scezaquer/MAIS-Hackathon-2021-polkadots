{
  "nbformat": 4,
  "nbformat_minor": 0,
  "metadata": {
    "colab": {
      "name": "segmentationclassification.ipynb",
      "provenance": [],
      "collapsed_sections": [],
      "authorship_tag": "ABX9TyMbt5QJuFgSfV9mPs5blEsb",
      "include_colab_link": true
    },
    "kernelspec": {
      "name": "python3",
      "display_name": "Python 3"
    },
    "language_info": {
      "name": "python"
    },
    "accelerator": "GPU"
  },
  "cells": [
    {
      "cell_type": "markdown",
      "metadata": {
        "id": "view-in-github",
        "colab_type": "text"
      },
      "source": [
        "<a href=\"https://colab.research.google.com/github/vmcru/MAIS-Hackathon-2021-polkadots/blob/main/segmentationclassification.ipynb\" target=\"_parent\"><img src=\"https://colab.research.google.com/assets/colab-badge.svg\" alt=\"Open In Colab\"/></a>"
      ]
    },
    {
      "cell_type": "code",
      "metadata": {
        "id": "dFIpF-VVDYNv"
      },
      "source": [
        "import keras\n",
        "import tensorflow as tf\n",
        "from keras.models import Sequential, Model, load_model\n",
        "from keras.preprocessing import image\n",
        "from keras.callbacks import TensorBoard \n",
        "from keras.utils.data_utils import get_file\n",
        "from keras import utils as np_utils\n",
        "from tensorflow.keras.applications import ResNet50, DenseNet121\n",
        "from keras.layers import Conv2D, MaxPooling2D, AveragePooling2D, Dense, Input, Dropout, Activation, Flatten, BatchNormalization,ZeroPadding2D,concatenate,Lambda,GlobalAveragePooling2D\n",
        "from tensorflow.keras.optimizers import Adam,SGD,RMSprop, Adadelta\n",
        "import os\n",
        "import random\n",
        "import numpy as np\n",
        "from skimage import io\n",
        "import cv2 \n",
        "import matplotlib.pyplot as plt\n",
        "from sklearn.metrics import auc, roc_curve, confusion_matrix,classification_report \n",
        "from scipy import interp\n",
        "from itertools import cycle\n",
        "from tqdm import tqdm\n",
        "import json\n",
        "from pathlib import Path"
      ],
      "execution_count": 1,
      "outputs": []
    },
    {
      "cell_type": "code",
      "metadata": {
        "colab": {
          "base_uri": "https://localhost:8080/"
        },
        "id": "6731E7CtOoX4",
        "outputId": "76fcb04d-4b0e-4211-a6e6-b448e93244cd"
      },
      "source": [
        "!pip install google.colab"
      ],
      "execution_count": 2,
      "outputs": [
        {
          "output_type": "stream",
          "name": "stdout",
          "text": [
            "Requirement already satisfied: google.colab in /usr/local/lib/python3.7/dist-packages (1.0.0)\n",
            "Requirement already satisfied: ipykernel~=4.10 in /usr/local/lib/python3.7/dist-packages (from google.colab) (4.10.1)\n",
            "Requirement already satisfied: pandas~=1.1.0 in /usr/local/lib/python3.7/dist-packages (from google.colab) (1.1.5)\n",
            "Requirement already satisfied: portpicker~=1.3.1 in /usr/local/lib/python3.7/dist-packages (from google.colab) (1.3.9)\n",
            "Requirement already satisfied: notebook~=5.3.0 in /usr/local/lib/python3.7/dist-packages (from google.colab) (5.3.1)\n",
            "Requirement already satisfied: six~=1.15.0 in /usr/local/lib/python3.7/dist-packages (from google.colab) (1.15.0)\n",
            "Requirement already satisfied: astor~=0.8.1 in /usr/local/lib/python3.7/dist-packages (from google.colab) (0.8.1)\n",
            "Requirement already satisfied: requests~=2.23.0 in /usr/local/lib/python3.7/dist-packages (from google.colab) (2.23.0)\n",
            "Requirement already satisfied: tornado~=5.1.0 in /usr/local/lib/python3.7/dist-packages (from google.colab) (5.1.1)\n",
            "Requirement already satisfied: google-auth>=1.17.2 in /usr/local/lib/python3.7/dist-packages (from google.colab) (1.35.0)\n",
            "Requirement already satisfied: ipython~=5.5.0 in /usr/local/lib/python3.7/dist-packages (from google.colab) (5.5.0)\n",
            "Requirement already satisfied: rsa<5,>=3.1.4 in /usr/local/lib/python3.7/dist-packages (from google-auth>=1.17.2->google.colab) (4.7.2)\n",
            "Requirement already satisfied: cachetools<5.0,>=2.0.0 in /usr/local/lib/python3.7/dist-packages (from google-auth>=1.17.2->google.colab) (4.2.2)\n",
            "Requirement already satisfied: setuptools>=40.3.0 in /usr/local/lib/python3.7/dist-packages (from google-auth>=1.17.2->google.colab) (57.4.0)\n",
            "Requirement already satisfied: pyasn1-modules>=0.2.1 in /usr/local/lib/python3.7/dist-packages (from google-auth>=1.17.2->google.colab) (0.2.8)\n",
            "Requirement already satisfied: jupyter-client in /usr/local/lib/python3.7/dist-packages (from ipykernel~=4.10->google.colab) (5.3.5)\n",
            "Requirement already satisfied: traitlets>=4.1.0 in /usr/local/lib/python3.7/dist-packages (from ipykernel~=4.10->google.colab) (5.1.0)\n",
            "Requirement already satisfied: prompt-toolkit<2.0.0,>=1.0.4 in /usr/local/lib/python3.7/dist-packages (from ipython~=5.5.0->google.colab) (1.0.18)\n",
            "Requirement already satisfied: pexpect in /usr/local/lib/python3.7/dist-packages (from ipython~=5.5.0->google.colab) (4.8.0)\n",
            "Requirement already satisfied: pickleshare in /usr/local/lib/python3.7/dist-packages (from ipython~=5.5.0->google.colab) (0.7.5)\n",
            "Requirement already satisfied: pygments in /usr/local/lib/python3.7/dist-packages (from ipython~=5.5.0->google.colab) (2.6.1)\n",
            "Requirement already satisfied: simplegeneric>0.8 in /usr/local/lib/python3.7/dist-packages (from ipython~=5.5.0->google.colab) (0.8.1)\n",
            "Requirement already satisfied: decorator in /usr/local/lib/python3.7/dist-packages (from ipython~=5.5.0->google.colab) (4.4.2)\n",
            "Requirement already satisfied: nbformat in /usr/local/lib/python3.7/dist-packages (from notebook~=5.3.0->google.colab) (5.1.3)\n",
            "Requirement already satisfied: nbconvert in /usr/local/lib/python3.7/dist-packages (from notebook~=5.3.0->google.colab) (5.6.1)\n",
            "Requirement already satisfied: Send2Trash in /usr/local/lib/python3.7/dist-packages (from notebook~=5.3.0->google.colab) (1.8.0)\n",
            "Requirement already satisfied: terminado>=0.8.1 in /usr/local/lib/python3.7/dist-packages (from notebook~=5.3.0->google.colab) (0.12.1)\n",
            "Requirement already satisfied: jinja2 in /usr/local/lib/python3.7/dist-packages (from notebook~=5.3.0->google.colab) (2.11.3)\n",
            "Requirement already satisfied: jupyter-core>=4.4.0 in /usr/local/lib/python3.7/dist-packages (from notebook~=5.3.0->google.colab) (4.8.1)\n",
            "Requirement already satisfied: ipython-genutils in /usr/local/lib/python3.7/dist-packages (from notebook~=5.3.0->google.colab) (0.2.0)\n",
            "Requirement already satisfied: pyzmq>=13 in /usr/local/lib/python3.7/dist-packages (from jupyter-client->ipykernel~=4.10->google.colab) (22.3.0)\n",
            "Requirement already satisfied: python-dateutil>=2.1 in /usr/local/lib/python3.7/dist-packages (from jupyter-client->ipykernel~=4.10->google.colab) (2.8.2)\n",
            "Requirement already satisfied: pytz>=2017.2 in /usr/local/lib/python3.7/dist-packages (from pandas~=1.1.0->google.colab) (2018.9)\n",
            "Requirement already satisfied: numpy>=1.15.4 in /usr/local/lib/python3.7/dist-packages (from pandas~=1.1.0->google.colab) (1.19.5)\n",
            "Requirement already satisfied: wcwidth in /usr/local/lib/python3.7/dist-packages (from prompt-toolkit<2.0.0,>=1.0.4->ipython~=5.5.0->google.colab) (0.2.5)\n",
            "Requirement already satisfied: pyasn1<0.5.0,>=0.4.6 in /usr/local/lib/python3.7/dist-packages (from pyasn1-modules>=0.2.1->google-auth>=1.17.2->google.colab) (0.4.8)\n",
            "Requirement already satisfied: idna<3,>=2.5 in /usr/local/lib/python3.7/dist-packages (from requests~=2.23.0->google.colab) (2.10)\n",
            "Requirement already satisfied: urllib3!=1.25.0,!=1.25.1,<1.26,>=1.21.1 in /usr/local/lib/python3.7/dist-packages (from requests~=2.23.0->google.colab) (1.24.3)\n",
            "Requirement already satisfied: certifi>=2017.4.17 in /usr/local/lib/python3.7/dist-packages (from requests~=2.23.0->google.colab) (2021.5.30)\n",
            "Requirement already satisfied: chardet<4,>=3.0.2 in /usr/local/lib/python3.7/dist-packages (from requests~=2.23.0->google.colab) (3.0.4)\n",
            "Requirement already satisfied: ptyprocess in /usr/local/lib/python3.7/dist-packages (from terminado>=0.8.1->notebook~=5.3.0->google.colab) (0.7.0)\n",
            "Requirement already satisfied: MarkupSafe>=0.23 in /usr/local/lib/python3.7/dist-packages (from jinja2->notebook~=5.3.0->google.colab) (2.0.1)\n",
            "Requirement already satisfied: pandocfilters>=1.4.1 in /usr/local/lib/python3.7/dist-packages (from nbconvert->notebook~=5.3.0->google.colab) (1.5.0)\n",
            "Requirement already satisfied: bleach in /usr/local/lib/python3.7/dist-packages (from nbconvert->notebook~=5.3.0->google.colab) (4.1.0)\n",
            "Requirement already satisfied: mistune<2,>=0.8.1 in /usr/local/lib/python3.7/dist-packages (from nbconvert->notebook~=5.3.0->google.colab) (0.8.4)\n",
            "Requirement already satisfied: entrypoints>=0.2.2 in /usr/local/lib/python3.7/dist-packages (from nbconvert->notebook~=5.3.0->google.colab) (0.3)\n",
            "Requirement already satisfied: testpath in /usr/local/lib/python3.7/dist-packages (from nbconvert->notebook~=5.3.0->google.colab) (0.5.0)\n",
            "Requirement already satisfied: defusedxml in /usr/local/lib/python3.7/dist-packages (from nbconvert->notebook~=5.3.0->google.colab) (0.7.1)\n",
            "Requirement already satisfied: jsonschema!=2.5.0,>=2.4 in /usr/local/lib/python3.7/dist-packages (from nbformat->notebook~=5.3.0->google.colab) (2.6.0)\n",
            "Requirement already satisfied: webencodings in /usr/local/lib/python3.7/dist-packages (from bleach->nbconvert->notebook~=5.3.0->google.colab) (0.5.1)\n",
            "Requirement already satisfied: packaging in /usr/local/lib/python3.7/dist-packages (from bleach->nbconvert->notebook~=5.3.0->google.colab) (21.0)\n",
            "Requirement already satisfied: pyparsing>=2.0.2 in /usr/local/lib/python3.7/dist-packages (from packaging->bleach->nbconvert->notebook~=5.3.0->google.colab) (2.4.7)\n"
          ]
        }
      ]
    },
    {
      "cell_type": "code",
      "metadata": {
        "colab": {
          "base_uri": "https://localhost:8080/"
        },
        "id": "1doN4oysQ9fR",
        "outputId": "f81f5331-66ca-4e35-a74a-c2000dc4b142"
      },
      "source": [
        "from google.colab import drive\n",
        "drive.mount('/content/drive')"
      ],
      "execution_count": 3,
      "outputs": [
        {
          "output_type": "stream",
          "name": "stdout",
          "text": [
            "Mounted at /content/drive\n"
          ]
        }
      ]
    },
    {
      "cell_type": "code",
      "metadata": {
        "id": "kRhcn8r63oV9"
      },
      "source": [
        "f = open(\"/content/drive/MyDrive/segmentation/enumeration_segments.json\",)\n",
        "jsonfiledata = json.load(f)"
      ],
      "execution_count": 4,
      "outputs": []
    },
    {
      "cell_type": "code",
      "metadata": {
        "colab": {
          "base_uri": "https://localhost:8080/"
        },
        "id": "-0eNO9iBRLZ2",
        "outputId": "b84d6863-f943-40e1-feb7-0858f4df6997"
      },
      "source": [
        "save_path=\"/content/drive/MyDrive/segmentation/classification_results/\"\n",
        "print(os.path.isdir(save_path))\n",
        "if os.path.isdir(save_path)==True:\n",
        "  print(\"directory exists\")\n",
        "else:\n",
        "  os.mkdir(save_path)\n",
        "  print(\"new directory was created\")\n",
        "  \n",
        "\n",
        "cell_count_class = ['1 Colony', '2 Colonies', '3 Colonies', '4 Colonies', '5 Colonies', '6 Colonies', 'Confluential','Outlier']\n",
        "#cell_count_class = [0,1,2,3,4,5,6,7]\n",
        "height=224 \n",
        "width=224\n",
        "\n",
        "datacount = 1000\n",
        "maskfolder = \"Masks\"\n",
        "segmentfolder = \"Segments\"\n",
        "\n",
        "train_ratio=0.7\n",
        "test_ratio=0.3\n",
        "class_number=8\n",
        "\n",
        "dataset_path=\"/content/drive/MyDrive/segmentation\"\n",
        "X_train=[]\n",
        "y_train=[]\n",
        "X_test=[]\n",
        "y_test=[]\n",
        "\n",
        "\n",
        "mask_img_path=os.path.join(dataset_path,maskfolder)\n",
        "seg_img_path=os.path.join(dataset_path,segmentfolder)\n",
        "mask_files=os.listdir(mask_img_path)\n",
        "seg_files=os.listdir(seg_img_path)\n",
        "\n",
        "train_number=round(len(seg_files)*train_ratio)\n",
        "test_number=round(len(seg_files)*test_ratio)\n",
        "print(\"\\nTrain data= \",train_number,\"\\ntest data= \",test_number)\n",
        "\n",
        "\n",
        "\n",
        "\n",
        "for i in tqdm(range(train_number)):\n",
        "\n",
        "  a=random.choice(seg_files)\n",
        "  \n",
        "  seg_files=np.delete(seg_files,np.argwhere(seg_files==a))\n",
        "  \n",
        "  img_f=os.path.join(seg_img_path,a)\n",
        "  img=cv2.imread(img_f)\n",
        "\n",
        "  img=cv2.resize(img,(height,width))  \n",
        "  img =img.astype(np.float32) / img.max()  \n",
        "  img=image.img_to_array(img) \n",
        "  img = img.reshape((1,) + img.shape)       \n",
        "  X_train.append(img) \n",
        "  searchname = a.split(\".\")[0]\n",
        "  y_train.append(cell_count_class.index(jsonfiledata[searchname][\"data\"][\"segment_type\"]['text']))\n",
        "  #['data'])\n",
        "  seg_files=np.delete(seg_files,np.argwhere(seg_files==a))\n",
        "  \n",
        "\n",
        "\n",
        "\n",
        "for j in tqdm(seg_files):\n",
        "      \n",
        "  v=os.path.join(seg_img_path,j)\n",
        "  \n",
        "  img=cv2.imread(v)\n",
        "  img = cv2.cvtColor(img, cv2.COLOR_BGR2HSV)\n",
        "\n",
        "  img=cv2.resize(img,(height,width))  \n",
        "  img =img.astype(np.float32) / img.max()  \n",
        "  img=image.img_to_array(img) \n",
        "  img = img.reshape((1,) + img.shape)\n",
        "  \n",
        "  searchname = j.split(\".\")[0]\n",
        "  X_test.append(img) \n",
        "  y_test.append(cell_count_class.index(jsonfiledata[searchname][\"data\"][\"segment_type\"]['text']))\n",
        "  #['data'])\n"
      ],
      "execution_count": 8,
      "outputs": [
        {
          "output_type": "stream",
          "name": "stdout",
          "text": [
            "True\n",
            "directory exists\n",
            "\n",
            "Train data=  701 \n",
            "test data=  300\n"
          ]
        },
        {
          "output_type": "stream",
          "name": "stderr",
          "text": [
            "100%|██████████| 701/701 [02:03<00:00,  5.66it/s]\n",
            "100%|██████████| 300/300 [00:50<00:00,  5.89it/s]\n"
          ]
        }
      ]
    },
    {
      "cell_type": "markdown",
      "metadata": {
        "id": "NNdKU-fhxqHo"
      },
      "source": [
        "train dataset"
      ]
    },
    {
      "cell_type": "code",
      "metadata": {
        "id": "uX8udCYtFi73"
      },
      "source": [
        "def make_report(ii=0):\n",
        "    matrix = confusion_matrix(y_test.argmax(axis=1), y_pred.argmax(axis=1))\n",
        "    print(matrix)\n",
        "    cr = classification_report(y_test.argmax(axis=1), y_pred.argmax(axis=1), target_names=cell_count_class)\n",
        "    cm = np.array2string(matrix)\n",
        "    #here we use the save path from the folder we wish tostore this file\n",
        "    f = open(os.path.join(save_path,\"report_\"+str(ii)+\".txt\"), 'w')\n",
        "    f.write('type cells \\nClassification Report\\n\\n{}\\n\\nConfusion Matrix\\n\\n{}\\n'.format(cr, cm))\n",
        "    f.close()"
      ],
      "execution_count": 9,
      "outputs": []
    },
    {
      "cell_type": "code",
      "metadata": {
        "id": "tw40nL0iyoXV"
      },
      "source": [
        "X_train=np.array(X_train,dtype=np.float32)\n",
        "X_train = X_train.reshape(X_train.shape[0], height, width, 3)\n",
        "\n",
        "X_test=np.array(X_test,dtype=np.float32)\n",
        "X_test = X_test.reshape(X_test.shape[0], height, width, 3)\n",
        "\n",
        "y_train = np.array(y_train, dtype=np.float32)\n",
        "y_train = tf.keras.utils.to_categorical(y_train, class_number)\n",
        "\n",
        "y_test = np.array(y_test, dtype=np.float32)\n",
        "y_test = tf.keras.utils.to_categorical(y_test, class_number)"
      ],
      "execution_count": 10,
      "outputs": []
    },
    {
      "cell_type": "code",
      "metadata": {
        "colab": {
          "base_uri": "https://localhost:8080/"
        },
        "id": "M-QIlznQy9Ab",
        "outputId": "c595ecc2-7e39-402f-b4c6-03b2d653332f"
      },
      "source": [
        " #Training Process\n",
        "EPOCHS=1\n",
        "BATCH_SIZE=16\n",
        "x_fold=1\n",
        "#optimizer=Adadelta(lr=1.0, rho=0.95, epsilon=1e-07, decay=0.0)\n",
        "optimizer=Adam(lr=0.0001, beta_1=0.9, beta_2=0.999)\n",
        "#optimizer=SGD(lr=0.001, momentum=0.0, nesterov=False)\n",
        "#optimizer=RMSprop(lr=0.0001, rho=0.9)\n",
        "\n",
        "metric=\"accuracy\" \n",
        "loss=\"categorical_crossentropy\" \n",
        "model_checkpoint_callback=keras.callbacks.ModelCheckpoint(\"bestmodel.h5\",save_best_only=True,save_weights_only=True,)\n",
        "callbacks=[model_checkpoint_callback]\n"
      ],
      "execution_count": 11,
      "outputs": [
        {
          "output_type": "stream",
          "name": "stderr",
          "text": [
            "/usr/local/lib/python3.7/dist-packages/keras/optimizer_v2/optimizer_v2.py:356: UserWarning: The `lr` argument is deprecated, use `learning_rate` instead.\n",
            "  \"The `lr` argument is deprecated, use `learning_rate` instead.\")\n"
          ]
        }
      ]
    },
    {
      "cell_type": "code",
      "metadata": {
        "id": "wW6A7D3zHB2E"
      },
      "source": [
        "def plot_roc(ii=0):\n",
        "\n",
        "    # Plot linewidth.\n",
        "    lw = 2\n",
        "    # Compute ROC curve and ROC area for each class\n",
        "    fpr = dict()\n",
        "    tpr = dict()\n",
        "    roc_auc = dict()\n",
        "    for i in range(class_number):\n",
        "        fpr[i], tpr[i], _ = roc_curve(y_test[:, i], y_pred[:, i])\n",
        "        roc_auc[i] = auc(fpr[i], tpr[i])\n",
        "    all_fpr = np.unique(np.concatenate([fpr[i] for i in range(class_number)]))\n",
        "\n",
        "    # interpolate all ROC curves \n",
        "    mean_tpr = np.zeros_like(all_fpr)\n",
        "    for i in range(class_number):\n",
        "        mean_tpr += interp(all_fpr, fpr[i], tpr[i])\n",
        "\n",
        "    # compute AUC\n",
        "    mean_tpr /= class_number\n",
        "\n",
        "    # Plot all ROC curves\n",
        "    plt.close(\"all\")\n",
        "    all_plt=plt.figure(1)\n",
        "\n",
        "    colors = cycle([\"blue\",\"red\", \"purple\", \"gray\", \"pink\", \"brown\"])\n",
        "    for i, color in zip(range(class_number), colors):\n",
        "        plt.plot(fpr[i], tpr[i], color=color, lw=lw,\n",
        "                 label='{0} (area = {1:0.3f})'\n",
        "                 ''.format(rock_classes[i], roc_auc[i]))\n",
        "\n",
        "    plt.plot([0, 1], [0, 1], 'k--', lw=lw)\n",
        "    plt.xlim([0.0, 1.0])\n",
        "    plt.ylim([0.0, 1.05])\n",
        "    plt.xlabel('False Positive Rate')\n",
        "    plt.ylabel('True Positive Rate')\n",
        "    plt.title('ROC curves of count classes')\n",
        "    plt.legend(loc=\"lower right\")\n",
        "    plt.show\n",
        "    all_plt.savefig(save_path+\"all_auc_\"+str(ii)+\".jpg\",dpi=150)"
      ],
      "execution_count": 12,
      "outputs": []
    },
    {
      "cell_type": "code",
      "metadata": {
        "colab": {
          "base_uri": "https://localhost:8080/",
          "height": 1000
        },
        "id": "GovHFrUhzB5B",
        "outputId": "9f58c1a4-97e3-40ab-f12a-cf8ac74e490f"
      },
      "source": [
        "for i in range(x_fold):\n",
        "  input_shape=(height, width, 3)\n",
        "  #Transfer_Model = DenseNet121(weights=\"imagenet\", include_top=False, input_shape=input_shape)\n",
        "  Transfer_Model = ResNet50(weights=\"imagenet\", include_top=False, input_shape=input_shape)\n",
        "  \n",
        "  add_model = Sequential() # groups a linear stack of layers into a tf.keras.Model; training and inference on this model\n",
        "\n",
        "  add_model.add(Flatten()) # what is getting flattened? the RGB image? to what dimesions? vectorize? \n",
        "  add_model.add(BatchNormalization()) # what is batch in this case? how is it defined? for optimizer? \n",
        "  add_model.add(Dense(16, activation='relu')) # regular ol' neural net layer, with output of size (None, 16) (None refers to the size of the batch; see https://pgaleone.eu/tensorflow/2018/07/28/understanding-tensorflow-tensors-shape-static-dynamic/)\n",
        "  add_model.add(Dropout(0.25)) # 25 % of units dropped for regularization; only true for training (not applied during prediction)\n",
        "  add_model.add(BatchNormalization())\n",
        "        \n",
        "  add_model.add(Dense(class_number, activation='softmax'))\n",
        "\n",
        "  model = Model(inputs=Transfer_Model.input, outputs=add_model(Transfer_Model.output))\n",
        "\n",
        "  model.compile(loss=loss, optimizer=optimizer, metrics=[metric])\n",
        "  \n",
        "  history = model.fit(X_train, y_train, epochs=EPOCHS, batch_size=BATCH_SIZE)\n",
        "  #predictions\n",
        "  y_pred= model.predict(X_test)\n",
        "  y_pred=np.argmax(y_pred,axis=1).astype(np.float32)\n",
        "  y_pred = tf.keras.utils.to_categorical(y_pred, class_number)\n",
        "\n",
        "  train_score = model.evaluate(X_train, y_train)\n",
        "  test_score = model.evaluate(X_test, y_test)\n",
        "  print(train_score)\n",
        "  print(test_score)\n",
        "\n",
        "  #Plot accuracy \n",
        "  plt.close(\"all\")\n",
        "  plt.plot(history.history['accuracy'])\n",
        "  #plt.plot(history.history['val_accuracy'])  \n",
        "  plt.title('model accuracy')\n",
        "  plt.ylabel('accuracy')\n",
        "  plt.xlabel('epoch')\n",
        "  plt.legend(['train', 'test'], loc='upper left')\n",
        "  plt.show()\n",
        "  plt.savefig(os.path.join(save_path,\"acc_\"+str(i)+\".jpg\"),dpi=150)\n",
        "  #Plot loss\n",
        "  plt.close(\"all\")\n",
        "  plt.plot(history.history['loss'])\n",
        "  #plt.plot(history.history['val_accuracy'])\n",
        "      \n",
        "  plt.title('model loss')\n",
        "  plt.ylabel('loss')\n",
        "  plt.xlabel('epoch')\n",
        "  plt.legend(['train', 'test'], loc='upper left')\n",
        "  plt.show()\n",
        "  plt.savefig(os.path.join(save_path,\"loss_\"+str(i)+\".jpg\"),dpi=150)\n",
        "  #Plot ROC\n",
        "  plot_roc(i)\n",
        "  make_report(i)"
      ],
      "execution_count": 14,
      "outputs": [
        {
          "output_type": "stream",
          "name": "stdout",
          "text": [
            "44/44 [==============================] - 23s 367ms/step - loss: 1.9021 - accuracy: 0.3495\n",
            "22/22 [==============================] - 7s 265ms/step - loss: 5.7364 - accuracy: 0.4864\n",
            "10/10 [==============================] - 2s 192ms/step - loss: 5.7631 - accuracy: 0.4800\n",
            "[5.736441612243652, 0.48644793033599854]\n",
            "[5.7631378173828125, 0.47999998927116394]\n"
          ]
        },
        {
          "output_type": "display_data",
          "data": {
            "image/png": "[encoded data removed]",
            "text/plain": [
              "<Figure size 432x288 with 1 Axes>"
            ]
          },
          "metadata": {
            "needs_background": "light"
          }
        },
        {
          "output_type": "display_data",
          "data": {
            "image/png": "[encoded data removed]",
            "text/plain": [
              "<Figure size 432x288 with 1 Axes>"
            ]
          },
          "metadata": {
            "needs_background": "light"
          }
        },
        {
          "output_type": "stream",
          "name": "stderr",
          "text": [
            "/usr/local/lib/python3.7/dist-packages/ipykernel_launcher.py:17: DeprecationWarning: scipy.interp is deprecated and will be removed in SciPy 2.0.0, use numpy.interp instead\n"
          ]
        },
        {
          "output_type": "error",
          "ename": "NameError",
          "evalue": "ignored",
          "traceback": [
            "\u001b[0;31m---------------------------------------------------------------------------\u001b[0m",
            "\u001b[0;31mNameError\u001b[0m                                 Traceback (most recent call last)",
            "\u001b[0;32m<ipython-input-14-652c23a714f9>\u001b[0m in \u001b[0;36m<module>\u001b[0;34m()\u001b[0m\n\u001b[1;32m     51\u001b[0m   \u001b[0mplt\u001b[0m\u001b[0;34m.\u001b[0m\u001b[0msavefig\u001b[0m\u001b[0;34m(\u001b[0m\u001b[0mos\u001b[0m\u001b[0;34m.\u001b[0m\u001b[0mpath\u001b[0m\u001b[0;34m.\u001b[0m\u001b[0mjoin\u001b[0m\u001b[0;34m(\u001b[0m\u001b[0msave_path\u001b[0m\u001b[0;34m,\u001b[0m\u001b[0;34m\"loss_\"\u001b[0m\u001b[0;34m+\u001b[0m\u001b[0mstr\u001b[0m\u001b[0;34m(\u001b[0m\u001b[0mi\u001b[0m\u001b[0;34m)\u001b[0m\u001b[0;34m+\u001b[0m\u001b[0;34m\".jpg\"\u001b[0m\u001b[0;34m)\u001b[0m\u001b[0;34m,\u001b[0m\u001b[0mdpi\u001b[0m\u001b[0;34m=\u001b[0m\u001b[0;36m150\u001b[0m\u001b[0;34m)\u001b[0m\u001b[0;34m\u001b[0m\u001b[0;34m\u001b[0m\u001b[0m\n\u001b[1;32m     52\u001b[0m   \u001b[0;31m#Plot ROC\u001b[0m\u001b[0;34m\u001b[0m\u001b[0;34m\u001b[0m\u001b[0;34m\u001b[0m\u001b[0m\n\u001b[0;32m---> 53\u001b[0;31m   \u001b[0mplot_roc\u001b[0m\u001b[0;34m(\u001b[0m\u001b[0mi\u001b[0m\u001b[0;34m)\u001b[0m\u001b[0;34m\u001b[0m\u001b[0;34m\u001b[0m\u001b[0m\n\u001b[0m\u001b[1;32m     54\u001b[0m   \u001b[0mmake_report\u001b[0m\u001b[0;34m(\u001b[0m\u001b[0mi\u001b[0m\u001b[0;34m)\u001b[0m\u001b[0;34m\u001b[0m\u001b[0;34m\u001b[0m\u001b[0m\n",
            "\u001b[0;32m<ipython-input-12-08d9fb2650c9>\u001b[0m in \u001b[0;36mplot_roc\u001b[0;34m(ii)\u001b[0m\n\u001b[1;32m     28\u001b[0m         plt.plot(fpr[i], tpr[i], color=color, lw=lw,\n\u001b[1;32m     29\u001b[0m                  \u001b[0mlabel\u001b[0m\u001b[0;34m=\u001b[0m\u001b[0;34m'{0} (area = {1:0.3f})'\u001b[0m\u001b[0;34m\u001b[0m\u001b[0;34m\u001b[0m\u001b[0m\n\u001b[0;32m---> 30\u001b[0;31m                  ''.format(rock_classes[i], roc_auc[i]))\n\u001b[0m\u001b[1;32m     31\u001b[0m \u001b[0;34m\u001b[0m\u001b[0m\n\u001b[1;32m     32\u001b[0m     \u001b[0mplt\u001b[0m\u001b[0;34m.\u001b[0m\u001b[0mplot\u001b[0m\u001b[0;34m(\u001b[0m\u001b[0;34m[\u001b[0m\u001b[0;36m0\u001b[0m\u001b[0;34m,\u001b[0m \u001b[0;36m1\u001b[0m\u001b[0;34m]\u001b[0m\u001b[0;34m,\u001b[0m \u001b[0;34m[\u001b[0m\u001b[0;36m0\u001b[0m\u001b[0;34m,\u001b[0m \u001b[0;36m1\u001b[0m\u001b[0;34m]\u001b[0m\u001b[0;34m,\u001b[0m \u001b[0;34m'k--'\u001b[0m\u001b[0;34m,\u001b[0m \u001b[0mlw\u001b[0m\u001b[0;34m=\u001b[0m\u001b[0mlw\u001b[0m\u001b[0;34m)\u001b[0m\u001b[0;34m\u001b[0m\u001b[0;34m\u001b[0m\u001b[0m\n",
            "\u001b[0;31mNameError\u001b[0m: name 'rock_classes' is not defined"
          ]
        },
        {
          "output_type": "display_data",
          "data": {
            "text/plain": [
              "<Figure size 432x288 with 0 Axes>"
            ]
          },
          "metadata": {}
        }
      ]
    }
  ]
}